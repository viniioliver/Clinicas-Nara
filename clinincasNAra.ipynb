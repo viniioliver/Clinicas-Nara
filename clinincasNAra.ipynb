{
 "cells": [
  {
   "cell_type": "code",
   "execution_count": null,
   "id": "dc40c01e",
   "metadata": {},
   "outputs": [],
   "source": [
    "import pandas as pd\n",
    "import matplotlib.pyplot as plt\n",
    "import seaborn as sns\n",
    "\n",
    "avaliacoes = pd.read_csv(\"avaliacoes.csv\", sep=\",\", encoding=\"utf-8\")\n",
    "clinicas = pd.read_csv(\"clinicas.csv\", sep=\",\", encoding=\"utf-8\")\n",
    "consultas = pd.read_csv(\"consultas.csv\", sep=\",\", encoding=\"utf-8\")\n",
    "medicos = pd.read_csv(\n",
    "    \"medicos.csv\",\n",
    "    sep=\";\", \n",
    "    encoding=\"utf-8\",\n",
    "    header=0,\n",
    "    names=[\"id_medico\", \"nome_medico\", \"especialidade\"]\n",
    ")\n",
    "pacientes = pd.read_csv(\"pacientes.csv\", sep=\",\", encoding=\"utf-8\")\n",
    "\n",
    "consultas[\"data_hora_agendada\"] = pd.to_datetime(consultas[\"data_hora_agendada\"], errors=\"coerce\")\n",
    "consultas[\"data_hora_inicio\"] = pd.to_datetime(consultas[\"data_hora_inicio\"], errors=\"coerce\")\n",
    "\n",
    "clinicas[\"capacidade_diaria\"] = pd.to_numeric(clinicas[\"capacidade_diaria\"], errors=\"coerce\")\n",
    "avaliacoes[\"nota_satisfacao\"] = pd.to_numeric(avaliacoes[\"nota_satisfacao\"], errors=\"coerce\")\n",
    "\n",
    "consultas[\"tempo_espera\"] = (consultas[\"data_hora_inicio\"] - consultas[\"data_hora_agendada\"]).dt.total_seconds() / 60\n",
    "print(medicos.head())\n",
    "print(medicos.columns)\n",
    "\n",
    "# - Importei bibliotecas e carreguei os arquivos CSV\n",
    "# - Converte datas para formato datetime\n",
    "# - Converte colunas numéricas (capacidade, nota de satisfação)\n",
    "# - Calcula tempo de espera em minutos entre horário agendado e início da consulta"
   ]
  },
  {
   "cell_type": "code",
   "execution_count": null,
   "id": "c9049936",
   "metadata": {},
   "outputs": [],
   "source": [
    "df = consultas.merge(pacientes, on=\"id_paciente\", how=\"inner\")\n",
    "df = df.merge(medicos, on=\"id_medico\", how=\"inner\")\n",
    "df = df.merge(clinicas, on=\"id_clinica\", how=\"inner\")\n",
    "df = df.merge(avaliacoes, on=\"id_consulta\", how=\"inner\")\n",
    "\n",
    "# Unificação das tabelas (consultas, pacientes, médicos, clínicas e avaliações) em um único DataFrame\n"
   ]
  },
  {
   "cell_type": "code",
   "execution_count": null,
   "id": "39f834c9",
   "metadata": {},
   "outputs": [
    {
     "name": "stdout",
     "output_type": "stream",
     "text": [
      "Quartis:\n",
      "Q1 = 8.75, Q2 (mediana) = 30.00, Q3 = 180.00\n",
      "Limite inferior = -248.12, limite superior = 436.88\n"
     ]
    }
   ],
   "source": [
    "Q1 = df[\"tempo_espera\"].quantile(0.25)\n",
    "Q2 = df[\"tempo_espera\"].quantile(0.50)\n",
    "Q3 = df[\"tempo_espera\"].quantile(0.75)\n",
    "IQR = Q3 - Q1\n",
    "\n",
    "limite_inferior = Q1 - 1.5 * IQR\n",
    "limite_superior = Q3 + 1.5 * IQR\n",
    "\n",
    "df[\"outlier_tempo_espera\"] = (df[\"tempo_espera\"] < limite_inferior) | (df[\"tempo_espera\"] > limite_superior)\n",
    "\n",
    "print(\"Quartis:\")\n",
    "print(f\"Q1 = {Q1:.2f}, Q2 (mediana) = {Q2:.2f}, Q3 = {Q3:.2f}\")\n",
    "print(f\"Limite inferior = {limite_inferior:.2f}, limite superior = {limite_superior:.2f}\")\n",
    "\n",
    "# Cálculo dos quartis e do IQR para identificar outliers no tempo de espera\n",
    "# (valores muito abaixo ou acima dos limites definidos pelos quartis)\n"
   ]
  },
  {
   "cell_type": "code",
   "execution_count": null,
   "id": "cecd55ee",
   "metadata": {},
   "outputs": [
    {
     "name": "stdout",
     "output_type": "stream",
     "text": [
      "\n",
      "Resumo por especialidade, médico e clínica:\n",
      "  especialidade  id_medico  id_clinica  media_espera  mediana_espera  \\\n",
      "0   Cardiologia         12          79         240.0           240.0   \n",
      "1   Cardiologia         13          50          60.0            60.0   \n",
      "2   Cardiologia         15          95          15.0            15.0   \n",
      "3   Cardiologia         19          39          60.0            60.0   \n",
      "4   Cardiologia         19          82          30.0            30.0   \n",
      "\n",
      "   media_nota  mediana_nota  qtd_consultas  \n",
      "0         2.0           2.0              1  \n",
      "1         1.0           1.0              1  \n",
      "2         5.0           5.0              1  \n",
      "3         2.0           2.0              1  \n",
      "4         1.0           1.0              1  \n"
     ]
    }
   ],
   "source": [
    "resumo = df.groupby([\"especialidade_y\", \"id_medico\", \"id_clinica\"]).agg(\n",
    "    media_espera=(\"tempo_espera\", \"mean\"),\n",
    "    mediana_espera=(\"tempo_espera\", \"median\"),\n",
    "    media_nota=(\"nota_satisfacao\", \"mean\"),\n",
    "    mediana_nota=(\"nota_satisfacao\", \"median\"),\n",
    "    qtd_consultas=(\"id_consulta\", \"count\")\n",
    ").reset_index()\n",
    "\n",
    "resumo = resumo.rename(columns={\"especialidade_y\": \"especialidade\"})\n",
    "\n",
    "print(\"\\nResumo por especialidade, médico e clínica:\")\n",
    "print(resumo.head())\n",
    "\n",
    "# Agrupa por especialidade, médico e clínica\n",
    "# Calcula média e mediana do tempo de espera\n",
    "# Calcula média e mediana da nota de satisfação\n",
    "# Conta a quantidade de consultas por grupo\n",
    "# Renomeia coluna de especialidade para maior clareza\n"
   ]
  },
  {
   "cell_type": "code",
   "execution_count": null,
   "id": "1943940f",
   "metadata": {},
   "outputs": [
    {
     "name": "stdout",
     "output_type": "stream",
     "text": [
      "\n",
      "Correlação entre tempo de espera e nota de satisfação: -0.004\n"
     ]
    }
   ],
   "source": [
    "correlacao = df[[\"tempo_espera\", \"nota_satisfacao\"]].corr().iloc[0,1]\n",
    "print(f\"\\nCorrelação entre tempo de espera e nota de satisfação: {correlacao:.3f}\")\n",
    "\n",
    "# Calcula a correlação entre tempo de espera e nota de satisfação\n",
    "# para verificar se atrasos influenciam a avaliação dos pacientes\n",
    "# 0,004 indica que o tempo de espera nao impacta nas notas de satisfação \n"
   ]
  },
  {
   "cell_type": "code",
   "execution_count": 54,
   "id": "b7a74d94",
   "metadata": {},
   "outputs": [
    {
     "name": "stderr",
     "output_type": "stream",
     "text": [
      "C:\\Users\\Vinicius\\AppData\\Local\\Temp\\ipykernel_7756\\3653320324.py:4: FutureWarning: The default of observed=False is deprecated and will be changed to True in a future version of pandas. Pass observed=False to retain current behavior or observed=True to adopt the future default and silence this warning.\n",
      "  insatisfacao = df.groupby(\n"
     ]
    }
   ],
   "source": [
    "df[\"faixa_etaria\"] = pd.cut(df[\"idade\"], bins=[0,18,30,45,60,100], labels=[\"0-18\",\"19-30\",\"31-45\",\"46-60\",\"60+\"])\n",
    "#Separação por faixa etaria\n",
    "\n",
    "insatisfacao = df.groupby(\n",
    "    [\"cidade_x\", \"faixa_etaria\", \"especialidade_y\"]\n",
    ")[\"nota_satisfacao\"].mean().reset_index()\n",
    "# Calcula a nota média por cidade, faixa etária e especialidade\n",
    "\n",
    "reclamacoes = df.groupby(\"id_medico\").agg(\n",
    "    tempo_medio=(\"tempo_espera\",\"mean\"),\n",
    "    nota_media=(\"nota_satisfacao\",\"mean\"),\n",
    "    qtd_reclamacoes=(\"nota_satisfacao\", lambda x: (x<=2).sum())\n",
    ").reset_index()\n",
    "#Analise de medica com tempo , media e quantidade de reclamaçao\n",
    "\n",
    "clinica_cmp = df.groupby(\"id_clinica\").agg(\n",
    "    capacidade=(\"capacidade_diaria\",\"first\"),\n",
    "    consultas_total=(\"id_consulta\",\"count\"),\n",
    "    nota_media=(\"nota_satisfacao\",\"mean\")\n",
    ").reset_index()\n",
    "#COmpração de clina por capacidade , consultas e notas.\n",
    "\n",
    "plano_cmp = df.groupby(\"plano_saude\").agg(\n",
    "    media_espera=(\"tempo_espera\",\"mean\"),\n",
    "    media_nota=(\"nota_satisfacao\",\"mean\")\n",
    ").reset_index()\n",
    "# Analisa plano de saúde com média de tempo de espera e nota média por plano\n",
    "\n",
    "taxa_cancel = df.groupby(\"especialidade_y\").agg(\n",
    "    taxa_cancelamento=(\"status\", lambda x: (x==\"Cancelada\").mean()),\n",
    "    nota_media=(\"nota_satisfacao\",\"mean\")\n",
    ").reset_index()\n",
    "# Calcula taxa de cancelamento e nota média por especialidade"
   ]
  },
  {
   "cell_type": "code",
   "execution_count": 55,
   "id": "14199f6f",
   "metadata": {},
   "outputs": [
    {
     "name": "stdout",
     "output_type": "stream",
     "text": [
      "\n",
      "=== Insatisfação por cidade e faixa etária ===\n",
      "         cidade_x faixa_etaria especialidade_y  nota_satisfacao\n",
      "0  Belo Horizonte         0-18     Cardiologia              NaN\n",
      "1  Belo Horizonte         0-18    Dermatologia              NaN\n",
      "2  Belo Horizonte         0-18     Ginecologia              3.0\n",
      "3  Belo Horizonte         0-18      Neurologia              NaN\n",
      "4  Belo Horizonte         0-18       Ortopedia              NaN\n",
      "\n",
      "=== Médicos e reclamações ===\n",
      "   id_medico  tempo_medio  nota_media  qtd_reclamacoes\n",
      "0          1   150.000000    2.500000                1\n",
      "1          2   300.000000    3.000000                0\n",
      "2          3   121.666667    3.666667                0\n",
      "3          5    30.000000    5.000000                0\n",
      "4          6    30.000000    4.000000                0\n",
      "\n",
      "=== Clínicas: capacidade vs desempenho ===\n",
      "   id_clinica  capacidade  consultas_total  nota_media\n",
      "0           2          78                1         5.0\n",
      "1           3          37                2         4.5\n",
      "2           4          76                1         3.0\n",
      "3           5          92                1         4.0\n",
      "4           9          69                2         2.0\n",
      "\n",
      "=== Plano de saúde vs espera ===\n",
      "  plano_saude  media_espera  media_nota\n",
      "0         Não          91.0        2.86\n",
      "1         Sim         100.9        2.90\n",
      "\n",
      "=== Especialidades com cancelamento x nota ===\n",
      "  especialidade_y  taxa_cancelamento  nota_media\n",
      "0     Cardiologia           0.250000    2.750000\n",
      "1    Dermatologia           0.222222    2.444444\n",
      "2     Ginecologia           0.142857    2.714286\n",
      "3      Neurologia           0.181818    3.363636\n",
      "4       Ortopedia           0.142857    3.142857\n",
      "5       Pediatria           0.206897    2.793103\n"
     ]
    }
   ],
   "source": [
    "import matplotlib.pyplot as plt\n",
    "\n",
    "print(\"\\n=== Insatisfação por cidade e faixa etária ===\")\n",
    "print(insatisfacao.head())\n",
    "\n",
    "print(\"\\n=== Médicos e reclamações ===\")\n",
    "print(reclamacoes.head())\n",
    "\n",
    "print(\"\\n=== Clínicas: capacidade vs desempenho ===\")\n",
    "print(clinica_cmp.head())\n",
    "\n",
    "print(\"\\n=== Plano de saúde vs espera ===\")\n",
    "print(plano_cmp)\n",
    "\n",
    "print(\"\\n=== Especialidades com cancelamento x nota ===\")\n",
    "print(taxa_cancel)"
   ]
  },
  {
   "cell_type": "code",
   "execution_count": null,
   "id": "58552479",
   "metadata": {},
   "outputs": [
    {
     "data": {
      "image/png": "[encoded data removed]",
      "text/plain": [
       "<Figure size 800x500 with 1 Axes>"
      ]
     },
     "metadata": {},
     "output_type": "display_data"
    }
   ],
   "source": [
    "plt.figure(figsize=(8,5))\n",
    "sns.barplot(\n",
    "    x=nota_especialidade.values,\n",
    "    y=nota_especialidade.index,\n",
    "    hue=nota_especialidade.index,\n",
    "    palette=\"viridis\",\n",
    "    legend=False                  \n",
    ")\n",
    "plt.title(\"Nota média por especialidade\")\n",
    "plt.xlabel(\"Nota média de satisfação\")\n",
    "plt.ylabel(\"Especialidade\")\n",
    "plt.show()"
   ]
  },
  {
   "cell_type": "code",
   "execution_count": 53,
   "id": "1dcd03db",
   "metadata": {},
   "outputs": [
    {
     "data": {
      "image/png": "[encoded data removed]",
      "text/plain": [
       "<Figure size 800x500 with 1 Axes>"
      ]
     },
     "metadata": {},
     "output_type": "display_data"
    }
   ],
   "source": [
    "espera_faixa = (\n",
    "    df.groupby(\"faixa_etaria\", observed=True)[\"tempo_espera\"]\n",
    "      .mean()\n",
    "      .reset_index()\n",
    ")\n",
    "\n",
    "\n",
    "plt.figure(figsize=(8,5))\n",
    "sns.barplot(\n",
    "    data=espera_faixa,\n",
    "    x=\"faixa_etaria\",\n",
    "    y=\"tempo_espera\",\n",
    "    hue=\"faixa_etaria\",   # adiciona como hue\n",
    "    palette=\"magma\",\n",
    "    legend=False          # remove legenda desnecessária\n",
    ")\n",
    "plt.title(\"Tempo médio de espera por faixa etária\")\n",
    "plt.xlabel(\"Faixa etária\")\n",
    "plt.ylabel(\"Tempo médio de espera (min)\")\n",
    "plt.show()"
   ]
  }
 ],
 "metadata": {
  "kernelspec": {
   "display_name": "Python 3",
   "language": "python",
   "name": "python3"
  },
  "language_info": {
   "codemirror_mode": {
    "name": "ipython",
    "version": 3
   },
   "file_extension": ".py",
   "mimetype": "text/x-python",
   "name": "python",
   "nbconvert_exporter": "python",
   "pygments_lexer": "ipython3",
   "version": "3.13.5"
  }
 },
 "nbformat": 4,
 "nbformat_minor": 5
}
